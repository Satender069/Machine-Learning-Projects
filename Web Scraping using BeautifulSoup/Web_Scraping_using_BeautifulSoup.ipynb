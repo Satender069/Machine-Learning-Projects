{
  "nbformat": 4,
  "nbformat_minor": 0,
  "metadata": {
    "kernelspec": {
      "display_name": "Python 3",
      "language": "python",
      "name": "python3"
    },
    "language_info": {
      "codemirror_mode": {
        "name": "ipython",
        "version": 3
      },
      "file_extension": ".py",
      "mimetype": "text/x-python",
      "name": "python",
      "nbconvert_exporter": "python",
      "pygments_lexer": "ipython3",
      "version": "3.8.3"
    },
    "colab": {
      "name": "Web Scraping using BeautifulSoup.ipynb",
      "provenance": []
    }
  },
  "cells": [
    {
      "cell_type": "markdown",
      "metadata": {
        "id": "F5x8dn9bUr8L"
      },
      "source": [
        "# **Web Scraping using BeautifulSoup**\n",
        "\n",
        "\n"
      ]
    },
    {
      "cell_type": "markdown",
      "metadata": {
        "id": "S5SGeiZ-Ur8O"
      },
      "source": [
        "## <font color=purple>*A). Scraping from newspaper \"The Asian Age\"*</font>"
      ]
    },
    {
      "cell_type": "markdown",
      "metadata": {
        "id": "1qIcMBcpUr8O"
      },
      "source": [
        "This newspaper is scraped in depth going from page to page in various categories from home page. \n",
        "\n",
        "I have tried automate the process as much as possible."
      ]
    },
    {
      "cell_type": "code",
      "metadata": {
        "id": "1f1nerwbUr8P"
      },
      "source": [
        "import requests\n",
        "from bs4 import BeautifulSoup as bs"
      ],
      "execution_count": 1,
      "outputs": []
    },
    {
      "cell_type": "code",
      "metadata": {
        "id": "rewMsAqzUr8Q"
      },
      "source": [
        "news_page2 = requests.get(\"https://www.asianage.com/india\")\n",
        "content2   = news_page2.content\n",
        "soup2 = bs(content2,'html.parser')\n",
        "list_soup_children2 = list(soup2.children)"
      ],
      "execution_count": 2,
      "outputs": []
    },
    {
      "cell_type": "code",
      "metadata": {
        "scrolled": false,
        "id": "YMaIR2g7Ur8Q",
        "colab": {
          "base_uri": "https://localhost:8080/"
        },
        "outputId": "8687ece4-5dc0-4924-bba3-2c6fd4827487"
      },
      "source": [
        "tags = list_soup_children2[2]\n",
        "pages = tags.select(\"li li\")[:17]\n",
        "\n",
        "# Getting links of news pages regarding different categories of news\n",
        "\n",
        "link_category = []\n",
        "for page in pages:\n",
        "    link_category.append(\"https://www.asianage.com\"+page.find('a').get('href'))\n",
        "    \n",
        "link_category"
      ],
      "execution_count": 3,
      "outputs": [
        {
          "output_type": "execute_result",
          "data": {
            "text/plain": [
              "['https://www.asianage.com/india/politics',\n",
              " 'https://www.asianage.com/india/crime',\n",
              " 'https://www.asianage.com/india/all-india',\n",
              " 'https://www.asianage.com/world/south-asia',\n",
              " 'https://www.asianage.com/world/asia',\n",
              " 'https://www.asianage.com/world/middle-east',\n",
              " 'https://www.asianage.com/world/africa',\n",
              " 'https://www.asianage.com/world/europe',\n",
              " 'https://www.asianage.com/world/americas',\n",
              " 'https://www.asianage.com/world/oceania',\n",
              " 'https://www.asianage.com/metros/delhi',\n",
              " 'https://www.asianage.com/metros/kolkata',\n",
              " 'https://www.asianage.com/metros/mumbai',\n",
              " 'https://www.asianage.com/metros/in-other-cities',\n",
              " 'https://www.asianage.com/business/economy',\n",
              " 'https://www.asianage.com/business/market',\n",
              " 'https://www.asianage.com/business/companies']"
            ]
          },
          "metadata": {
            "tags": []
          },
          "execution_count": 3
        }
      ]
    },
    {
      "cell_type": "code",
      "metadata": {
        "id": "tIY-FLTZUr8R"
      },
      "source": [
        "page_no = [number for number in range(1,10)]  # Number of pages to scan from each category. \n",
        "                                              #Remember that some category have very less pages to passing large value might show error.\n",
        "dict_final = {\"Title\":[], \"Content\":[]}\n",
        "\n",
        "for page_cat in link_category:\n",
        "    for num in page_no:\n",
        "        new_page = requests.get(page_cat+'?pg={}'.format(num))\n",
        "        soup_np = bs(new_page.content,'html.parser')\n",
        "        tags_np = list(soup_np.children)[2]\n",
        "        articles = tags_np.select('h2.costly a') # articles list with 'a' tag containing their urls\n",
        "        \n",
        "        # WORKING WITH SPECIFIC STORY PAGE\n",
        "    \n",
        "        for story in articles:\n",
        "            link_story = 'https://www.asianage.com'+story.get('href')\n",
        "            story_page = requests.get(link_story)\n",
        "            soup_story = bs(story_page.content,'html.parser')\n",
        "            tag_story = list(soup_story.children)[2]\n",
        "            \n",
        "            # GETTING TITLE OF THE STORY\n",
        "            title = tag_story.find('title').get_text()\n",
        "            dict_final[\"Title\"].append(title)\n",
        "            \n",
        "            # GETTING CONTENT OF THE STORY\n",
        "            paras_list = tag_story.select('div.storyBody p')\n",
        "            content=''\n",
        "            for paras in paras_list:\n",
        "                content += paras.get_text()\n",
        "            dict_final[\"Content\"].append(content)"
      ],
      "execution_count": 4,
      "outputs": []
    },
    {
      "cell_type": "code",
      "metadata": {
        "scrolled": false,
        "id": "uDF7WLVdUr8S",
        "colab": {
          "base_uri": "https://localhost:8080/",
          "height": 49
        },
        "outputId": "149df25f-8d67-454f-9e9d-59b89aade437"
      },
      "source": [
        "import pandas as pd\n",
        "table = pd.DataFrame(dict_final)      # Creating Data Frame of resulting values\n",
        "table"
      ],
      "execution_count": 5,
      "outputs": [
        {
          "output_type": "execute_result",
          "data": {
            "text/html": [
              "<div>\n",
              "<style scoped>\n",
              "    .dataframe tbody tr th:only-of-type {\n",
              "        vertical-align: middle;\n",
              "    }\n",
              "\n",
              "    .dataframe tbody tr th {\n",
              "        vertical-align: top;\n",
              "    }\n",
              "\n",
              "    .dataframe thead th {\n",
              "        text-align: right;\n",
              "    }\n",
              "</style>\n",
              "<table border=\"1\" class=\"dataframe\">\n",
              "  <thead>\n",
              "    <tr style=\"text-align: right;\">\n",
              "      <th></th>\n",
              "      <th>Title</th>\n",
              "      <th>Content</th>\n",
              "    </tr>\n",
              "  </thead>\n",
              "  <tbody>\n",
              "  </tbody>\n",
              "</table>\n",
              "</div>"
            ],
            "text/plain": [
              "Empty DataFrame\n",
              "Columns: [Title, Content]\n",
              "Index: []"
            ]
          },
          "metadata": {
            "tags": []
          },
          "execution_count": 5
        }
      ]
    },
    {
      "cell_type": "markdown",
      "metadata": {
        "id": "azPQLzXTUr8T"
      },
      "source": [
        "## <font color=purple>*B). Scraping from newspaper \"International Business Times\"*</font>"
      ]
    },
    {
      "cell_type": "markdown",
      "metadata": {
        "id": "lz0JVV1uUr8T"
      },
      "source": [
        "Code for above newspaper scrapes large amount of data one time, but we can run below program daily and it will add latest stories from newspaper in existing dictionary. It extracts main stories from front page only rather than scraping in depth for old news as above program does.\n",
        "\n",
        "### Note:  Do not run below cell if you want to add new data to older one."
      ]
    },
    {
      "cell_type": "code",
      "metadata": {
        "id": "1_2ld_mbUr8U"
      },
      "source": [
        "dict_main = {\"Title\":[],\"Content\":[]}"
      ],
      "execution_count": 6,
      "outputs": []
    },
    {
      "cell_type": "code",
      "metadata": {
        "id": "bkIsXiRmUr8U",
        "colab": {
          "base_uri": "https://localhost:8080/"
        },
        "outputId": "a826cd65-1b24-4a8f-cbb9-3d535ef7686d"
      },
      "source": [
        "news_page = requests.get(\"https://www.ibtimes.co.in/\")\n",
        "content   = news_page.content\n",
        "soup = bs(content,'html.parser')\n",
        "list_soup_children = list(soup.children)\n",
        "[type(item) for item in list_soup_children]  # Checking for tags only in soup's children"
      ],
      "execution_count": 7,
      "outputs": [
        {
          "output_type": "execute_result",
          "data": {
            "text/plain": [
              "[bs4.element.Doctype, bs4.element.NavigableString, bs4.element.Tag]"
            ]
          },
          "metadata": {
            "tags": []
          },
          "execution_count": 7
        }
      ]
    },
    {
      "cell_type": "code",
      "metadata": {
        "id": "itpE6XqDUr8V"
      },
      "source": [
        "import json\n",
        "tags = list_soup_children[2]\n",
        "article_list = tags.select('article h3 a') # getting to 'a' tag inside heading level 3 i.e. 'h3' which itself is inside 'article' tag\n",
        "\n",
        "url_list = []\n",
        "for i in range(len(article_list)):\n",
        "    url_list.append(article_list[i].get('href'))          # Collecting url's of news from 'href' inside 'a' tags \n",
        "    dict_main[\"Title\"].append(article_list[i].get_text())         # Collecting news headings \n",
        "    \n",
        "\n",
        "for link in url_list:\n",
        "    get_page = requests.get(link)\n",
        "    soup = bs(get_page.content,'html.parser')                       # creating soup for each news webpage collected from main page.\n",
        "    script = soup.find('script', {'type' : 'application/ld+json'})  # Content is inside 'script' tag of type 'application/ld+json'.\n",
        "    parsing = json.loads(script.string)                             # Providing string value inside 'loads' module of 'json' library which  \n",
        "                                                                    # returns dictionary with different elements from 'script' tag on the website.\n",
        "    dict_main[\"Content\"].append(parsing['articleBody'])             # Content is the value of key 'articleBody' in dictionary named 'parsing' "
      ],
      "execution_count": 8,
      "outputs": []
    },
    {
      "cell_type": "code",
      "metadata": {
        "scrolled": false,
        "id": "CPbrSAvgUr8W",
        "colab": {
          "base_uri": "https://localhost:8080/",
          "height": 958
        },
        "outputId": "6057fab0-74af-4ec7-c603-872b950986a4"
      },
      "source": [
        "table2 = pd.DataFrame(dict_main)      # Creating Data Frame of resulting values\n",
        "table2"
      ],
      "execution_count": 9,
      "outputs": [
        {
          "output_type": "execute_result",
          "data": {
            "text/html": [
              "<div>\n",
              "<style scoped>\n",
              "    .dataframe tbody tr th:only-of-type {\n",
              "        vertical-align: middle;\n",
              "    }\n",
              "\n",
              "    .dataframe tbody tr th {\n",
              "        vertical-align: top;\n",
              "    }\n",
              "\n",
              "    .dataframe thead th {\n",
              "        text-align: right;\n",
              "    }\n",
              "</style>\n",
              "<table border=\"1\" class=\"dataframe\">\n",
              "  <thead>\n",
              "    <tr style=\"text-align: right;\">\n",
              "      <th></th>\n",
              "      <th>Title</th>\n",
              "      <th>Content</th>\n",
              "    </tr>\n",
              "  </thead>\n",
              "  <tbody>\n",
              "    <tr>\n",
              "      <th>0</th>\n",
              "      <td>US Covid-19 deaths cross 600,000, full vaccina...</td>\n",
              "      <td>Six hundred thousand. Americas coronavirus de...</td>\n",
              "    </tr>\n",
              "    <tr>\n",
              "      <th>1</th>\n",
              "      <td>Covid vaccination in India without online regi...</td>\n",
              "      <td>Amid the slowing down of the Covid second wav...</td>\n",
              "    </tr>\n",
              "    <tr>\n",
              "      <th>2</th>\n",
              "      <td>Covid origin mystery: Live bats locked up in c...</td>\n",
              "      <td>It was in late 2019 that the first case of th...</td>\n",
              "    </tr>\n",
              "    <tr>\n",
              "      <th>3</th>\n",
              "      <td>New imaging technique could help pilots, drive...</td>\n",
              "      <td>The researchers at Shiv Nadar University in G...</td>\n",
              "    </tr>\n",
              "    <tr>\n",
              "      <th>4</th>\n",
              "      <td>Galwan clash anniversary brings back painful m...</td>\n",
              "      <td>Last year on this day, while an exhausted cou...</td>\n",
              "    </tr>\n",
              "    <tr>\n",
              "      <th>5</th>\n",
              "      <td>Pune-based vocalist's music app among Apple De...</td>\n",
              "      <td>, a studio-quality iOS music app created by P...</td>\n",
              "    </tr>\n",
              "    <tr>\n",
              "      <th>6</th>\n",
              "      <td>iPhones getting whole lot better with iOS 15; ...</td>\n",
              "      <td>Apple has announced iOS 15, a major update wi...</td>\n",
              "    </tr>\n",
              "    <tr>\n",
              "      <th>7</th>\n",
              "      <td>Saliva effective than nasal swabs for detectin...</td>\n",
              "      <td>The mention of COVID-19 testing is likely to ...</td>\n",
              "    </tr>\n",
              "    <tr>\n",
              "      <th>8</th>\n",
              "      <td>Hospital rush likely even after Covid as one l...</td>\n",
              "      <td>A huge backlog of surgeries has built up in t...</td>\n",
              "    </tr>\n",
              "    <tr>\n",
              "      <th>9</th>\n",
              "      <td>100 Not Out Campaign: Karnataka Congress leade...</td>\n",
              "      <td>Karnataka Pradesh Congress Committee (KPCC) p...</td>\n",
              "    </tr>\n",
              "    <tr>\n",
              "      <th>10</th>\n",
              "      <td>More NFTs go under hammer at Sotheby's after $...</td>\n",
              "      <td>On Thursday, June 10, NFT of a digital artwor...</td>\n",
              "    </tr>\n",
              "    <tr>\n",
              "      <th>11</th>\n",
              "      <td>Raveena Tandon didn't spend her day dancing to...</td>\n",
              "      <td>The industry knows Raveena Tandon as a woman ...</td>\n",
              "    </tr>\n",
              "    <tr>\n",
              "      <th>12</th>\n",
              "      <td>Karnataka logs 11,042 new Covid cases with 194...</td>\n",
              "      <td>With the pandemic's second wave waning, 11,04...</td>\n",
              "    </tr>\n",
              "    <tr>\n",
              "      <th>13</th>\n",
              "      <td>Sharks in Marine Protected Area in the Indian ...</td>\n",
              "      <td>More than 14,000 sharks were caught in the Ma...</td>\n",
              "    </tr>\n",
              "    <tr>\n",
              "      <th>14</th>\n",
              "      <td>Black holes have an unexpected effect beyond t...</td>\n",
              "      <td>There is a black hole at the center of practi...</td>\n",
              "    </tr>\n",
              "    <tr>\n",
              "      <th>15</th>\n",
              "      <td>Apple doubles down on privacy; gives users mor...</td>\n",
              "      <td>After introducing the App Tracking Transparen...</td>\n",
              "    </tr>\n",
              "    <tr>\n",
              "      <th>16</th>\n",
              "      <td>Kochi woman forced to drink urine, brutally th...</td>\n",
              "      <td>It was recently reported that there's an incr...</td>\n",
              "    </tr>\n",
              "    <tr>\n",
              "      <th>17</th>\n",
              "      <td>Slept for 24,000 years, and this living could ...</td>\n",
              "      <td>A team of scientists from Russia has revived ...</td>\n",
              "    </tr>\n",
              "    <tr>\n",
              "      <th>18</th>\n",
              "      <td>Tom Felton opens up on his friendship with Emm...</td>\n",
              "      <td>Emma Watson had earlier confessed that out of...</td>\n",
              "    </tr>\n",
              "    <tr>\n",
              "      <th>19</th>\n",
              "      <td>Vijaylakshmi on Facing Online Harassment over ...</td>\n",
              "      <td>Vijayalakshmi is once again in the news. The ...</td>\n",
              "    </tr>\n",
              "    <tr>\n",
              "      <th>20</th>\n",
              "      <td>Prince Narula defends Yuvika Chaudhary using '...</td>\n",
              "      <td>Days after Yuvika Chaudhary landed in trouble...</td>\n",
              "    </tr>\n",
              "    <tr>\n",
              "      <th>21</th>\n",
              "      <td>Karan Mehra – Nisha Rawal domestic violence ca...</td>\n",
              "      <td>The Karan Mehra – Nisha Rawal domestic violen...</td>\n",
              "    </tr>\n",
              "    <tr>\n",
              "      <th>22</th>\n",
              "      <td>The Family Man Season 2 review: Manoj Bajpayee...</td>\n",
              "      <td>The wait is finally over, and the much-antici...</td>\n",
              "    </tr>\n",
              "    <tr>\n",
              "      <th>23</th>\n",
              "      <td>Jagame Thandhiram trailer review: Dhanush and ...</td>\n",
              "      <td>The wait is finally over, as the most-anticip...</td>\n",
              "    </tr>\n",
              "    <tr>\n",
              "      <th>24</th>\n",
              "      <td>Movie Review: Huma Qureshi's Hollywood debut \"...</td>\n",
              "      <td>Movie Review: Army Of The Dead; Cast: Dave Ba...</td>\n",
              "    </tr>\n",
              "    <tr>\n",
              "      <th>25</th>\n",
              "      <td>US Covid-19 deaths cross 600,000, full vaccina...</td>\n",
              "      <td>Six hundred thousand. Americas coronavirus de...</td>\n",
              "    </tr>\n",
              "    <tr>\n",
              "      <th>26</th>\n",
              "      <td>Take away liquor from clubs in K'taka; no othe...</td>\n",
              "      <td>After almost a month of lockdown, the Karnata...</td>\n",
              "    </tr>\n",
              "    <tr>\n",
              "      <th>27</th>\n",
              "      <td>New COVID cases in India plummet; 85% decline ...</td>\n",
              "      <td>India has witnessed a decline in daily Covid&amp;...</td>\n",
              "    </tr>\n",
              "    <tr>\n",
              "      <th>28</th>\n",
              "      <td>Kerala lockdown restrictions to be eased: Serv...</td>\n",
              "      <td>Kerala chief minister Pinarayi Vijayan, on Mo...</td>\n",
              "    </tr>\n",
              "  </tbody>\n",
              "</table>\n",
              "</div>"
            ],
            "text/plain": [
              "                                                Title                                            Content\n",
              "0   US Covid-19 deaths cross 600,000, full vaccina...   Six hundred thousand. Americas coronavirus de...\n",
              "1   Covid vaccination in India without online regi...   Amid the slowing down of the Covid second wav...\n",
              "2   Covid origin mystery: Live bats locked up in c...   It was in late 2019 that the first case of th...\n",
              "3   New imaging technique could help pilots, drive...   The researchers at Shiv Nadar University in G...\n",
              "4   Galwan clash anniversary brings back painful m...   Last year on this day, while an exhausted cou...\n",
              "5   Pune-based vocalist's music app among Apple De...   , a studio-quality iOS music app created by P...\n",
              "6   iPhones getting whole lot better with iOS 15; ...   Apple has announced iOS 15, a major update wi...\n",
              "7   Saliva effective than nasal swabs for detectin...   The mention of COVID-19 testing is likely to ...\n",
              "8   Hospital rush likely even after Covid as one l...   A huge backlog of surgeries has built up in t...\n",
              "9   100 Not Out Campaign: Karnataka Congress leade...   Karnataka Pradesh Congress Committee (KPCC) p...\n",
              "10  More NFTs go under hammer at Sotheby's after $...   On Thursday, June 10, NFT of a digital artwor...\n",
              "11  Raveena Tandon didn't spend her day dancing to...   The industry knows Raveena Tandon as a woman ...\n",
              "12  Karnataka logs 11,042 new Covid cases with 194...   With the pandemic's second wave waning, 11,04...\n",
              "13  Sharks in Marine Protected Area in the Indian ...   More than 14,000 sharks were caught in the Ma...\n",
              "14  Black holes have an unexpected effect beyond t...   There is a black hole at the center of practi...\n",
              "15  Apple doubles down on privacy; gives users mor...   After introducing the App Tracking Transparen...\n",
              "16  Kochi woman forced to drink urine, brutally th...   It was recently reported that there's an incr...\n",
              "17  Slept for 24,000 years, and this living could ...   A team of scientists from Russia has revived ...\n",
              "18  Tom Felton opens up on his friendship with Emm...   Emma Watson had earlier confessed that out of...\n",
              "19  Vijaylakshmi on Facing Online Harassment over ...   Vijayalakshmi is once again in the news. The ...\n",
              "20  Prince Narula defends Yuvika Chaudhary using '...   Days after Yuvika Chaudhary landed in trouble...\n",
              "21  Karan Mehra – Nisha Rawal domestic violence ca...   The Karan Mehra – Nisha Rawal domestic violen...\n",
              "22  The Family Man Season 2 review: Manoj Bajpayee...   The wait is finally over, and the much-antici...\n",
              "23  Jagame Thandhiram trailer review: Dhanush and ...   The wait is finally over, as the most-anticip...\n",
              "24  Movie Review: Huma Qureshi's Hollywood debut \"...   Movie Review: Army Of The Dead; Cast: Dave Ba...\n",
              "25  US Covid-19 deaths cross 600,000, full vaccina...   Six hundred thousand. Americas coronavirus de...\n",
              "26  Take away liquor from clubs in K'taka; no othe...   After almost a month of lockdown, the Karnata...\n",
              "27  New COVID cases in India plummet; 85% decline ...   India has witnessed a decline in daily Covid&...\n",
              "28  Kerala lockdown restrictions to be eased: Serv...   Kerala chief minister Pinarayi Vijayan, on Mo..."
            ]
          },
          "metadata": {
            "tags": []
          },
          "execution_count": 9
        }
      ]
    },
    {
      "cell_type": "markdown",
      "metadata": {
        "id": "am589aM8Ur8W"
      },
      "source": [
        "## Combining data from both the newspaper"
      ]
    },
    {
      "cell_type": "code",
      "metadata": {
        "id": "dhqVETySUr8X"
      },
      "source": [
        "# ADDING BOTH DICTIONARIES \n",
        "dict_final[\"Title\"].extend(dict_main[\"Title\"])\n",
        "dict_final[\"Content\"].extend(dict_main[\"Content\"])\n",
        "\n",
        "new_dict = {\"Title\":dict_final[\"Title\"],\"Content\":dict_final[\"Content\"]} # "
      ],
      "execution_count": 10,
      "outputs": []
    },
    {
      "cell_type": "code",
      "metadata": {
        "scrolled": false,
        "id": "DKgys9MpUr8X",
        "colab": {
          "base_uri": "https://localhost:8080/",
          "height": 958
        },
        "outputId": "ddbd7825-f61e-41bf-c9c5-7bd004598d80"
      },
      "source": [
        "table_final = pd.DataFrame(new_dict)\n",
        "table_final"
      ],
      "execution_count": 11,
      "outputs": [
        {
          "output_type": "execute_result",
          "data": {
            "text/html": [
              "<div>\n",
              "<style scoped>\n",
              "    .dataframe tbody tr th:only-of-type {\n",
              "        vertical-align: middle;\n",
              "    }\n",
              "\n",
              "    .dataframe tbody tr th {\n",
              "        vertical-align: top;\n",
              "    }\n",
              "\n",
              "    .dataframe thead th {\n",
              "        text-align: right;\n",
              "    }\n",
              "</style>\n",
              "<table border=\"1\" class=\"dataframe\">\n",
              "  <thead>\n",
              "    <tr style=\"text-align: right;\">\n",
              "      <th></th>\n",
              "      <th>Title</th>\n",
              "      <th>Content</th>\n",
              "    </tr>\n",
              "  </thead>\n",
              "  <tbody>\n",
              "    <tr>\n",
              "      <th>0</th>\n",
              "      <td>US Covid-19 deaths cross 600,000, full vaccina...</td>\n",
              "      <td>Six hundred thousand. Americas coronavirus de...</td>\n",
              "    </tr>\n",
              "    <tr>\n",
              "      <th>1</th>\n",
              "      <td>Covid vaccination in India without online regi...</td>\n",
              "      <td>Amid the slowing down of the Covid second wav...</td>\n",
              "    </tr>\n",
              "    <tr>\n",
              "      <th>2</th>\n",
              "      <td>Covid origin mystery: Live bats locked up in c...</td>\n",
              "      <td>It was in late 2019 that the first case of th...</td>\n",
              "    </tr>\n",
              "    <tr>\n",
              "      <th>3</th>\n",
              "      <td>New imaging technique could help pilots, drive...</td>\n",
              "      <td>The researchers at Shiv Nadar University in G...</td>\n",
              "    </tr>\n",
              "    <tr>\n",
              "      <th>4</th>\n",
              "      <td>Galwan clash anniversary brings back painful m...</td>\n",
              "      <td>Last year on this day, while an exhausted cou...</td>\n",
              "    </tr>\n",
              "    <tr>\n",
              "      <th>5</th>\n",
              "      <td>Pune-based vocalist's music app among Apple De...</td>\n",
              "      <td>, a studio-quality iOS music app created by P...</td>\n",
              "    </tr>\n",
              "    <tr>\n",
              "      <th>6</th>\n",
              "      <td>iPhones getting whole lot better with iOS 15; ...</td>\n",
              "      <td>Apple has announced iOS 15, a major update wi...</td>\n",
              "    </tr>\n",
              "    <tr>\n",
              "      <th>7</th>\n",
              "      <td>Saliva effective than nasal swabs for detectin...</td>\n",
              "      <td>The mention of COVID-19 testing is likely to ...</td>\n",
              "    </tr>\n",
              "    <tr>\n",
              "      <th>8</th>\n",
              "      <td>Hospital rush likely even after Covid as one l...</td>\n",
              "      <td>A huge backlog of surgeries has built up in t...</td>\n",
              "    </tr>\n",
              "    <tr>\n",
              "      <th>9</th>\n",
              "      <td>100 Not Out Campaign: Karnataka Congress leade...</td>\n",
              "      <td>Karnataka Pradesh Congress Committee (KPCC) p...</td>\n",
              "    </tr>\n",
              "    <tr>\n",
              "      <th>10</th>\n",
              "      <td>More NFTs go under hammer at Sotheby's after $...</td>\n",
              "      <td>On Thursday, June 10, NFT of a digital artwor...</td>\n",
              "    </tr>\n",
              "    <tr>\n",
              "      <th>11</th>\n",
              "      <td>Raveena Tandon didn't spend her day dancing to...</td>\n",
              "      <td>The industry knows Raveena Tandon as a woman ...</td>\n",
              "    </tr>\n",
              "    <tr>\n",
              "      <th>12</th>\n",
              "      <td>Karnataka logs 11,042 new Covid cases with 194...</td>\n",
              "      <td>With the pandemic's second wave waning, 11,04...</td>\n",
              "    </tr>\n",
              "    <tr>\n",
              "      <th>13</th>\n",
              "      <td>Sharks in Marine Protected Area in the Indian ...</td>\n",
              "      <td>More than 14,000 sharks were caught in the Ma...</td>\n",
              "    </tr>\n",
              "    <tr>\n",
              "      <th>14</th>\n",
              "      <td>Black holes have an unexpected effect beyond t...</td>\n",
              "      <td>There is a black hole at the center of practi...</td>\n",
              "    </tr>\n",
              "    <tr>\n",
              "      <th>15</th>\n",
              "      <td>Apple doubles down on privacy; gives users mor...</td>\n",
              "      <td>After introducing the App Tracking Transparen...</td>\n",
              "    </tr>\n",
              "    <tr>\n",
              "      <th>16</th>\n",
              "      <td>Kochi woman forced to drink urine, brutally th...</td>\n",
              "      <td>It was recently reported that there's an incr...</td>\n",
              "    </tr>\n",
              "    <tr>\n",
              "      <th>17</th>\n",
              "      <td>Slept for 24,000 years, and this living could ...</td>\n",
              "      <td>A team of scientists from Russia has revived ...</td>\n",
              "    </tr>\n",
              "    <tr>\n",
              "      <th>18</th>\n",
              "      <td>Tom Felton opens up on his friendship with Emm...</td>\n",
              "      <td>Emma Watson had earlier confessed that out of...</td>\n",
              "    </tr>\n",
              "    <tr>\n",
              "      <th>19</th>\n",
              "      <td>Vijaylakshmi on Facing Online Harassment over ...</td>\n",
              "      <td>Vijayalakshmi is once again in the news. The ...</td>\n",
              "    </tr>\n",
              "    <tr>\n",
              "      <th>20</th>\n",
              "      <td>Prince Narula defends Yuvika Chaudhary using '...</td>\n",
              "      <td>Days after Yuvika Chaudhary landed in trouble...</td>\n",
              "    </tr>\n",
              "    <tr>\n",
              "      <th>21</th>\n",
              "      <td>Karan Mehra – Nisha Rawal domestic violence ca...</td>\n",
              "      <td>The Karan Mehra – Nisha Rawal domestic violen...</td>\n",
              "    </tr>\n",
              "    <tr>\n",
              "      <th>22</th>\n",
              "      <td>The Family Man Season 2 review: Manoj Bajpayee...</td>\n",
              "      <td>The wait is finally over, and the much-antici...</td>\n",
              "    </tr>\n",
              "    <tr>\n",
              "      <th>23</th>\n",
              "      <td>Jagame Thandhiram trailer review: Dhanush and ...</td>\n",
              "      <td>The wait is finally over, as the most-anticip...</td>\n",
              "    </tr>\n",
              "    <tr>\n",
              "      <th>24</th>\n",
              "      <td>Movie Review: Huma Qureshi's Hollywood debut \"...</td>\n",
              "      <td>Movie Review: Army Of The Dead; Cast: Dave Ba...</td>\n",
              "    </tr>\n",
              "    <tr>\n",
              "      <th>25</th>\n",
              "      <td>US Covid-19 deaths cross 600,000, full vaccina...</td>\n",
              "      <td>Six hundred thousand. Americas coronavirus de...</td>\n",
              "    </tr>\n",
              "    <tr>\n",
              "      <th>26</th>\n",
              "      <td>Take away liquor from clubs in K'taka; no othe...</td>\n",
              "      <td>After almost a month of lockdown, the Karnata...</td>\n",
              "    </tr>\n",
              "    <tr>\n",
              "      <th>27</th>\n",
              "      <td>New COVID cases in India plummet; 85% decline ...</td>\n",
              "      <td>India has witnessed a decline in daily Covid&amp;...</td>\n",
              "    </tr>\n",
              "    <tr>\n",
              "      <th>28</th>\n",
              "      <td>Kerala lockdown restrictions to be eased: Serv...</td>\n",
              "      <td>Kerala chief minister Pinarayi Vijayan, on Mo...</td>\n",
              "    </tr>\n",
              "  </tbody>\n",
              "</table>\n",
              "</div>"
            ],
            "text/plain": [
              "                                                Title                                            Content\n",
              "0   US Covid-19 deaths cross 600,000, full vaccina...   Six hundred thousand. Americas coronavirus de...\n",
              "1   Covid vaccination in India without online regi...   Amid the slowing down of the Covid second wav...\n",
              "2   Covid origin mystery: Live bats locked up in c...   It was in late 2019 that the first case of th...\n",
              "3   New imaging technique could help pilots, drive...   The researchers at Shiv Nadar University in G...\n",
              "4   Galwan clash anniversary brings back painful m...   Last year on this day, while an exhausted cou...\n",
              "5   Pune-based vocalist's music app among Apple De...   , a studio-quality iOS music app created by P...\n",
              "6   iPhones getting whole lot better with iOS 15; ...   Apple has announced iOS 15, a major update wi...\n",
              "7   Saliva effective than nasal swabs for detectin...   The mention of COVID-19 testing is likely to ...\n",
              "8   Hospital rush likely even after Covid as one l...   A huge backlog of surgeries has built up in t...\n",
              "9   100 Not Out Campaign: Karnataka Congress leade...   Karnataka Pradesh Congress Committee (KPCC) p...\n",
              "10  More NFTs go under hammer at Sotheby's after $...   On Thursday, June 10, NFT of a digital artwor...\n",
              "11  Raveena Tandon didn't spend her day dancing to...   The industry knows Raveena Tandon as a woman ...\n",
              "12  Karnataka logs 11,042 new Covid cases with 194...   With the pandemic's second wave waning, 11,04...\n",
              "13  Sharks in Marine Protected Area in the Indian ...   More than 14,000 sharks were caught in the Ma...\n",
              "14  Black holes have an unexpected effect beyond t...   There is a black hole at the center of practi...\n",
              "15  Apple doubles down on privacy; gives users mor...   After introducing the App Tracking Transparen...\n",
              "16  Kochi woman forced to drink urine, brutally th...   It was recently reported that there's an incr...\n",
              "17  Slept for 24,000 years, and this living could ...   A team of scientists from Russia has revived ...\n",
              "18  Tom Felton opens up on his friendship with Emm...   Emma Watson had earlier confessed that out of...\n",
              "19  Vijaylakshmi on Facing Online Harassment over ...   Vijayalakshmi is once again in the news. The ...\n",
              "20  Prince Narula defends Yuvika Chaudhary using '...   Days after Yuvika Chaudhary landed in trouble...\n",
              "21  Karan Mehra – Nisha Rawal domestic violence ca...   The Karan Mehra – Nisha Rawal domestic violen...\n",
              "22  The Family Man Season 2 review: Manoj Bajpayee...   The wait is finally over, and the much-antici...\n",
              "23  Jagame Thandhiram trailer review: Dhanush and ...   The wait is finally over, as the most-anticip...\n",
              "24  Movie Review: Huma Qureshi's Hollywood debut \"...   Movie Review: Army Of The Dead; Cast: Dave Ba...\n",
              "25  US Covid-19 deaths cross 600,000, full vaccina...   Six hundred thousand. Americas coronavirus de...\n",
              "26  Take away liquor from clubs in K'taka; no othe...   After almost a month of lockdown, the Karnata...\n",
              "27  New COVID cases in India plummet; 85% decline ...   India has witnessed a decline in daily Covid&...\n",
              "28  Kerala lockdown restrictions to be eased: Serv...   Kerala chief minister Pinarayi Vijayan, on Mo..."
            ]
          },
          "metadata": {
            "tags": []
          },
          "execution_count": 11
        }
      ]
    },
    {
      "cell_type": "code",
      "metadata": {
        "colab": {
          "base_uri": "https://localhost:8080/",
          "height": 17
        },
        "id": "pvRvQ-YeYCeq",
        "outputId": "6b275ffa-30c6-454f-cefe-3a4a04a3b74e"
      },
      "source": [
        "from google.colab import files\n",
        "\n",
        "table_final.to_csv(\"scraped_data.csv\")\n",
        "files.download('scraped_data.csv')"
      ],
      "execution_count": 17,
      "outputs": [
        {
          "output_type": "display_data",
          "data": {
            "application/javascript": [
              "\n",
              "    async function download(id, filename, size) {\n",
              "      if (!google.colab.kernel.accessAllowed) {\n",
              "        return;\n",
              "      }\n",
              "      const div = document.createElement('div');\n",
              "      const label = document.createElement('label');\n",
              "      label.textContent = `Downloading \"${filename}\": `;\n",
              "      div.appendChild(label);\n",
              "      const progress = document.createElement('progress');\n",
              "      progress.max = size;\n",
              "      div.appendChild(progress);\n",
              "      document.body.appendChild(div);\n",
              "\n",
              "      const buffers = [];\n",
              "      let downloaded = 0;\n",
              "\n",
              "      const channel = await google.colab.kernel.comms.open(id);\n",
              "      // Send a message to notify the kernel that we're ready.\n",
              "      channel.send({})\n",
              "\n",
              "      for await (const message of channel.messages) {\n",
              "        // Send a message to notify the kernel that we're ready.\n",
              "        channel.send({})\n",
              "        if (message.buffers) {\n",
              "          for (const buffer of message.buffers) {\n",
              "            buffers.push(buffer);\n",
              "            downloaded += buffer.byteLength;\n",
              "            progress.value = downloaded;\n",
              "          }\n",
              "        }\n",
              "      }\n",
              "      const blob = new Blob(buffers, {type: 'application/binary'});\n",
              "      const a = document.createElement('a');\n",
              "      a.href = window.URL.createObjectURL(blob);\n",
              "      a.download = filename;\n",
              "      div.appendChild(a);\n",
              "      a.click();\n",
              "      div.remove();\n",
              "    }\n",
              "  "
            ],
            "text/plain": [
              "<IPython.core.display.Javascript object>"
            ]
          },
          "metadata": {
            "tags": []
          }
        },
        {
          "output_type": "display_data",
          "data": {
            "application/javascript": [
              "download(\"download_2ff85f58-7163-4578-8b04-084bdd002c34\", \"scraped_data.csv\", 79854)"
            ],
            "text/plain": [
              "<IPython.core.display.Javascript object>"
            ]
          },
          "metadata": {
            "tags": []
          }
        }
      ]
    }
  ]
}