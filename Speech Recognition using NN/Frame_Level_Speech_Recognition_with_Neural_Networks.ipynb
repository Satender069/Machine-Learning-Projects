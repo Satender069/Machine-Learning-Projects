{
  "nbformat": 4,
  "nbformat_minor": 0,
  "metadata": {
    "colab": {
      "name": "Frame Level Speech Recognition with Neural Networks.ipynb",
      "provenance": []
    },
    "kernelspec": {
      "name": "python3",
      "display_name": "Python 3"
    },
    "language_info": {
      "name": "python"
    }
  },
  "cells": [
    {
      "cell_type": "code",
      "metadata": {
        "id": "HHC__yAn-BER"
      },
      "source": [
        "import tensorflow as tf\n",
        "from tensorflow import keras\n",
        "from tensorflow.keras import Model,layers\n",
        "from tensorflow.keras.layers import *\n",
        "from tensorflow.keras.models import Sequential\n",
        "import numpy as np\n"
      ],
      "execution_count": null,
      "outputs": []
    },
    {
      "cell_type": "code",
      "metadata": {
        "colab": {
          "base_uri": "https://localhost:8080/"
        },
        "id": "iFqAuqJpDGBz",
        "outputId": "8040d28d-c3b2-4176-dd2c-8e61a0ccffda"
      },
      "source": [
        "from google.colab import drive\n",
        "drive.mount('/content/drive')\n",
        "x=np.load('/content/drive/MyDrive/ML_assign/dev_data.npy',allow_pickle=True,encoding='latin1')\n",
        "y=np.load('/content/drive/MyDrive/ML_assign/dev_labels(1).npy',allow_pickle=True,encoding='latin1')"
      ],
      "execution_count": null,
      "outputs": [
        {
          "output_type": "stream",
          "text": [
            "Drive already mounted at /content/drive; to attempt to forcibly remount, call drive.mount(\"/content/drive\", force_remount=True).\n"
          ],
          "name": "stdout"
        }
      ]
    },
    {
      "cell_type": "code",
      "metadata": {
        "id": "LL_YRA2hDGaO"
      },
      "source": [
        "def my_sequential_model(inp_dim, noc=138):\n",
        "  model = Sequential()\n",
        "  model.add(Dense(input_shape=inp_dim, units=256, name='dense-1'))\n",
        "  model.add(Activation('relu'))\n",
        "  model.add(Dense(units=256))\n",
        "  model.add(BatchNormalization())\n",
        "  model.add(Activation('relu'))\n",
        "  model.add(Dense(units=256, activation='relu'))\n",
        "  model.add(BatchNormalization())\n",
        "  model.add(Dense(units=256, activation='relu'))\n",
        "  model.add(BatchNormalization())\n",
        "  model.add(Flatten())\n",
        "  model.add(Dense(units=256, activation='relu'))\n",
        "  model.add(Dense(units=noc, activation='softmax'))\n",
        "  return model"
      ],
      "execution_count": null,
      "outputs": []
    },
    {
      "cell_type": "code",
      "metadata": {
        "colab": {
          "base_uri": "https://localhost:8080/"
        },
        "id": "xsISkM_IDGfW",
        "outputId": "5bc839dd-9ab8-416a-82ae-8d8b8e10df3f"
      },
      "source": [
        "from sklearn.model_selection import train_test_split\n",
        "x_train,x_test,y_train,y_test = train_test_split(x, y,test_size=0.2, random_state=42)\n",
        "y_train=tf.keras.utils.to_categorical(y_train)\n",
        "y_test=tf.keras.utils.to_categorical(y_test)\n",
        "print(x_train.shape,x_test.shape,y_train.shape,y_test.shape)\n"
      ],
      "execution_count": null,
      "outputs": [
        {
          "output_type": "stream",
          "text": [
            "(864661, 40) (216166, 40) (864661, 138) (216166, 138)\n"
          ],
          "name": "stdout"
        }
      ]
    },
    {
      "cell_type": "code",
      "metadata": {
        "colab": {
          "base_uri": "https://localhost:8080/"
        },
        "id": "p95riwzpDGie",
        "outputId": "a6b74fa0-3410-4f3d-bb6e-da3574143202"
      },
      "source": [
        "my_model=my_sequential_model(x[0].shape)\n",
        "base_learning_rate = 0.0001\n",
        "my_model.compile(optimizer=tf.keras.optimizers.Adam(lr=base_learning_rate),\n",
        "                       loss=\"categorical_crossentropy\",\n",
        "                       metrics=['accuracy'])\n",
        "my_model.summary()"
      ],
      "execution_count": null,
      "outputs": [
        {
          "output_type": "stream",
          "text": [
            "Model: \"sequential\"\n",
            "_________________________________________________________________\n",
            "Layer (type)                 Output Shape              Param #   \n",
            "=================================================================\n",
            "dense-1 (Dense)              (None, 256)               10496     \n",
            "_________________________________________________________________\n",
            "activation (Activation)      (None, 256)               0         \n",
            "_________________________________________________________________\n",
            "dense (Dense)                (None, 256)               65792     \n",
            "_________________________________________________________________\n",
            "batch_normalization (BatchNo (None, 256)               1024      \n",
            "_________________________________________________________________\n",
            "activation_1 (Activation)    (None, 256)               0         \n",
            "_________________________________________________________________\n",
            "dense_1 (Dense)              (None, 256)               65792     \n",
            "_________________________________________________________________\n",
            "batch_normalization_1 (Batch (None, 256)               1024      \n",
            "_________________________________________________________________\n",
            "dense_2 (Dense)              (None, 256)               65792     \n",
            "_________________________________________________________________\n",
            "batch_normalization_2 (Batch (None, 256)               1024      \n",
            "_________________________________________________________________\n",
            "flatten (Flatten)            (None, 256)               0         \n",
            "_________________________________________________________________\n",
            "dense_3 (Dense)              (None, 256)               65792     \n",
            "_________________________________________________________________\n",
            "dense_4 (Dense)              (None, 138)               35466     \n",
            "=================================================================\n",
            "Total params: 312,202\n",
            "Trainable params: 310,666\n",
            "Non-trainable params: 1,536\n",
            "_________________________________________________________________\n"
          ],
          "name": "stdout"
        }
      ]
    },
    {
      "cell_type": "code",
      "metadata": {
        "colab": {
          "base_uri": "https://localhost:8080/"
        },
        "id": "kiOe1LPBGgfu",
        "outputId": "f727f5e2-73bb-47b8-cc3b-ed9d95233517"
      },
      "source": [
        "history = my_model.fit(x_train, y_train, batch_size=32, validation_data=(x_test, y_test), verbose=True, epochs=30)"
      ],
      "execution_count": null,
      "outputs": [
        {
          "output_type": "stream",
          "text": [
            "Epoch 1/30\n",
            "27021/27021 [==============================] - 159s 6ms/step - loss: 3.3354 - accuracy: 0.1998 - val_loss: 2.9602 - val_accuracy: 0.2565\n",
            "Epoch 2/30\n",
            "27021/27021 [==============================] - 159s 6ms/step - loss: 2.9766 - accuracy: 0.2520 - val_loss: 2.8906 - val_accuracy: 0.2693\n",
            "Epoch 3/30\n",
            "27021/27021 [==============================] - 154s 6ms/step - loss: 2.9047 - accuracy: 0.2651 - val_loss: 2.8517 - val_accuracy: 0.2764\n",
            "Epoch 4/30\n",
            "27021/27021 [==============================] - 156s 6ms/step - loss: 2.8620 - accuracy: 0.2723 - val_loss: 2.8164 - val_accuracy: 0.2840\n",
            "Epoch 5/30\n",
            "27021/27021 [==============================] - 154s 6ms/step - loss: 2.8256 - accuracy: 0.2787 - val_loss: 2.8023 - val_accuracy: 0.2857\n",
            "Epoch 6/30\n",
            "27021/27021 [==============================] - 156s 6ms/step - loss: 2.7977 - accuracy: 0.2848 - val_loss: 2.7863 - val_accuracy: 0.2896\n",
            "Epoch 7/30\n",
            "27021/27021 [==============================] - 157s 6ms/step - loss: 2.7828 - accuracy: 0.2870 - val_loss: 2.7693 - val_accuracy: 0.2931\n",
            "Epoch 8/30\n",
            "27021/27021 [==============================] - 155s 6ms/step - loss: 2.7618 - accuracy: 0.2921 - val_loss: 2.7613 - val_accuracy: 0.2953\n",
            "Epoch 9/30\n",
            "27021/27021 [==============================] - 152s 6ms/step - loss: 2.7459 - accuracy: 0.2942 - val_loss: 2.7576 - val_accuracy: 0.2950\n",
            "Epoch 10/30\n",
            "27021/27021 [==============================] - 155s 6ms/step - loss: 2.7324 - accuracy: 0.2972 - val_loss: 2.7441 - val_accuracy: 0.2978\n",
            "Epoch 11/30\n",
            "27021/27021 [==============================] - 151s 6ms/step - loss: 2.7167 - accuracy: 0.3001 - val_loss: 2.7349 - val_accuracy: 0.3004\n",
            "Epoch 12/30\n",
            "27021/27021 [==============================] - 151s 6ms/step - loss: 2.7090 - accuracy: 0.3018 - val_loss: 2.7334 - val_accuracy: 0.3000\n",
            "Epoch 13/30\n",
            "27021/27021 [==============================] - 153s 6ms/step - loss: 2.6991 - accuracy: 0.3037 - val_loss: 2.7280 - val_accuracy: 0.3023\n",
            "Epoch 14/30\n",
            "27021/27021 [==============================] - 152s 6ms/step - loss: 2.6857 - accuracy: 0.3065 - val_loss: 2.7211 - val_accuracy: 0.3042\n",
            "Epoch 15/30\n",
            "27021/27021 [==============================] - 156s 6ms/step - loss: 2.6730 - accuracy: 0.3081 - val_loss: 2.7147 - val_accuracy: 0.3058\n",
            "Epoch 16/30\n",
            "27021/27021 [==============================] - 152s 6ms/step - loss: 2.6705 - accuracy: 0.3088 - val_loss: 2.7106 - val_accuracy: 0.3054\n",
            "Epoch 17/30\n",
            "27021/27021 [==============================] - 151s 6ms/step - loss: 2.6577 - accuracy: 0.3116 - val_loss: 2.7078 - val_accuracy: 0.3066\n",
            "Epoch 18/30\n",
            "27021/27021 [==============================] - 153s 6ms/step - loss: 2.6561 - accuracy: 0.3112 - val_loss: 2.7023 - val_accuracy: 0.3083\n",
            "Epoch 19/30\n",
            "27021/27021 [==============================] - 153s 6ms/step - loss: 2.6457 - accuracy: 0.3130 - val_loss: 2.7065 - val_accuracy: 0.3077\n",
            "Epoch 20/30\n",
            "27021/27021 [==============================] - 151s 6ms/step - loss: 2.6367 - accuracy: 0.3149 - val_loss: 2.6972 - val_accuracy: 0.3088\n",
            "Epoch 21/30\n",
            "27021/27021 [==============================] - 147s 5ms/step - loss: 2.6303 - accuracy: 0.3162 - val_loss: 2.6966 - val_accuracy: 0.3098\n",
            "Epoch 22/30\n",
            "27021/27021 [==============================] - 142s 5ms/step - loss: 2.6260 - accuracy: 0.3179 - val_loss: 2.6938 - val_accuracy: 0.3114\n",
            "Epoch 23/30\n",
            "27021/27021 [==============================] - 143s 5ms/step - loss: 2.6176 - accuracy: 0.3195 - val_loss: 2.6933 - val_accuracy: 0.3105\n",
            "Epoch 24/30\n",
            "27021/27021 [==============================] - 144s 5ms/step - loss: 2.6155 - accuracy: 0.3199 - val_loss: 2.6945 - val_accuracy: 0.3106\n",
            "Epoch 25/30\n",
            "27021/27021 [==============================] - 143s 5ms/step - loss: 2.6089 - accuracy: 0.3203 - val_loss: 2.6857 - val_accuracy: 0.3131\n",
            "Epoch 26/30\n",
            "27021/27021 [==============================] - 145s 5ms/step - loss: 2.6024 - accuracy: 0.3233 - val_loss: 2.6859 - val_accuracy: 0.3124\n",
            "Epoch 27/30\n",
            "27021/27021 [==============================] - 143s 5ms/step - loss: 2.5996 - accuracy: 0.3226 - val_loss: 2.6870 - val_accuracy: 0.3127\n",
            "Epoch 28/30\n",
            "27021/27021 [==============================] - 143s 5ms/step - loss: 2.5948 - accuracy: 0.3236 - val_loss: 2.6836 - val_accuracy: 0.3130\n",
            "Epoch 29/30\n",
            "27021/27021 [==============================] - 146s 5ms/step - loss: 2.5852 - accuracy: 0.3260 - val_loss: 2.6812 - val_accuracy: 0.3137\n",
            "Epoch 30/30\n",
            "27021/27021 [==============================] - 145s 5ms/step - loss: 2.5846 - accuracy: 0.3256 - val_loss: 2.6820 - val_accuracy: 0.3138\n"
          ],
          "name": "stdout"
        }
      ]
    },
    {
      "cell_type": "code",
      "metadata": {
        "colab": {
          "base_uri": "https://localhost:8080/",
          "height": 470
        },
        "id": "LS1im1AoGkGw",
        "outputId": "1afd0622-8946-41ab-b73a-b8ab1c3d1f5a"
      },
      "source": [
        "\n",
        "test_data=np.load('/content/drive/MyDrive/ML_assign/test_data.npy',allow_pickle=True,encoding='latin1')\n",
        "prediction=my_model.predict_classes(test_data)\n",
        "label=prediction.tolist()\n",
        "index=[i for i in range(len(label))]\n",
        "import pandas as pd\n",
        "final_df = pd.DataFrame(\n",
        "    {'id': index,\n",
        "     'label': label})\n",
        "final_df"
      ],
      "execution_count": null,
      "outputs": [
        {
          "output_type": "stream",
          "text": [
            "/usr/local/lib/python3.7/dist-packages/tensorflow/python/keras/engine/sequential.py:450: UserWarning: `model.predict_classes()` is deprecated and will be removed after 2021-01-01. Please use instead:* `np.argmax(model.predict(x), axis=-1)`,   if your model does multi-class classification   (e.g. if it uses a `softmax` last-layer activation).* `(model.predict(x) > 0.5).astype(\"int32\")`,   if your model does binary classification   (e.g. if it uses a `sigmoid` last-layer activation).\n",
            "  warnings.warn('`model.predict_classes()` is deprecated and '\n"
          ],
          "name": "stderr"
        },
        {
          "output_type": "execute_result",
          "data": {
            "text/html": [
              "<div>\n",
              "<style scoped>\n",
              "    .dataframe tbody tr th:only-of-type {\n",
              "        vertical-align: middle;\n",
              "    }\n",
              "\n",
              "    .dataframe tbody tr th {\n",
              "        vertical-align: top;\n",
              "    }\n",
              "\n",
              "    .dataframe thead th {\n",
              "        text-align: right;\n",
              "    }\n",
              "</style>\n",
              "<table border=\"1\" class=\"dataframe\">\n",
              "  <thead>\n",
              "    <tr style=\"text-align: right;\">\n",
              "      <th></th>\n",
              "      <th>id</th>\n",
              "      <th>label</th>\n",
              "    </tr>\n",
              "  </thead>\n",
              "  <tbody>\n",
              "    <tr>\n",
              "      <th>0</th>\n",
              "      <td>0</td>\n",
              "      <td>109</td>\n",
              "    </tr>\n",
              "    <tr>\n",
              "      <th>1</th>\n",
              "      <td>1</td>\n",
              "      <td>76</td>\n",
              "    </tr>\n",
              "    <tr>\n",
              "      <th>2</th>\n",
              "      <td>2</td>\n",
              "      <td>108</td>\n",
              "    </tr>\n",
              "    <tr>\n",
              "      <th>3</th>\n",
              "      <td>3</td>\n",
              "      <td>109</td>\n",
              "    </tr>\n",
              "    <tr>\n",
              "      <th>4</th>\n",
              "      <td>4</td>\n",
              "      <td>108</td>\n",
              "    </tr>\n",
              "    <tr>\n",
              "      <th>...</th>\n",
              "      <td>...</td>\n",
              "      <td>...</td>\n",
              "    </tr>\n",
              "    <tr>\n",
              "      <th>4620350</th>\n",
              "      <td>4620350</td>\n",
              "      <td>108</td>\n",
              "    </tr>\n",
              "    <tr>\n",
              "      <th>4620351</th>\n",
              "      <td>4620351</td>\n",
              "      <td>108</td>\n",
              "    </tr>\n",
              "    <tr>\n",
              "      <th>4620352</th>\n",
              "      <td>4620352</td>\n",
              "      <td>108</td>\n",
              "    </tr>\n",
              "    <tr>\n",
              "      <th>4620353</th>\n",
              "      <td>4620353</td>\n",
              "      <td>108</td>\n",
              "    </tr>\n",
              "    <tr>\n",
              "      <th>4620354</th>\n",
              "      <td>4620354</td>\n",
              "      <td>108</td>\n",
              "    </tr>\n",
              "  </tbody>\n",
              "</table>\n",
              "<p>4620355 rows × 2 columns</p>\n",
              "</div>"
            ],
            "text/plain": [
              "              id  label\n",
              "0              0    109\n",
              "1              1     76\n",
              "2              2    108\n",
              "3              3    109\n",
              "4              4    108\n",
              "...          ...    ...\n",
              "4620350  4620350    108\n",
              "4620351  4620351    108\n",
              "4620352  4620352    108\n",
              "4620353  4620353    108\n",
              "4620354  4620354    108\n",
              "\n",
              "[4620355 rows x 2 columns]"
            ]
          },
          "metadata": {
            "tags": []
          },
          "execution_count": 11
        }
      ]
    },
    {
      "cell_type": "code",
      "metadata": {
        "colab": {
          "base_uri": "https://localhost:8080/",
          "height": 17
        },
        "id": "8ZS33UZXIoxf",
        "outputId": "0fa78db2-8933-4b5d-c06c-d5166871ce34"
      },
      "source": [
        "from google.colab import files\n",
        "\n",
        "final_df.to_csv(\"ms16069.csv\", index=False)\n",
        "files.download('ms16069.csv')"
      ],
      "execution_count": null,
      "outputs": [
        {
          "output_type": "display_data",
          "data": {
            "application/javascript": [
              "\n",
              "    async function download(id, filename, size) {\n",
              "      if (!google.colab.kernel.accessAllowed) {\n",
              "        return;\n",
              "      }\n",
              "      const div = document.createElement('div');\n",
              "      const label = document.createElement('label');\n",
              "      label.textContent = `Downloading \"${filename}\": `;\n",
              "      div.appendChild(label);\n",
              "      const progress = document.createElement('progress');\n",
              "      progress.max = size;\n",
              "      div.appendChild(progress);\n",
              "      document.body.appendChild(div);\n",
              "\n",
              "      const buffers = [];\n",
              "      let downloaded = 0;\n",
              "\n",
              "      const channel = await google.colab.kernel.comms.open(id);\n",
              "      // Send a message to notify the kernel that we're ready.\n",
              "      channel.send({})\n",
              "\n",
              "      for await (const message of channel.messages) {\n",
              "        // Send a message to notify the kernel that we're ready.\n",
              "        channel.send({})\n",
              "        if (message.buffers) {\n",
              "          for (const buffer of message.buffers) {\n",
              "            buffers.push(buffer);\n",
              "            downloaded += buffer.byteLength;\n",
              "            progress.value = downloaded;\n",
              "          }\n",
              "        }\n",
              "      }\n",
              "      const blob = new Blob(buffers, {type: 'application/binary'});\n",
              "      const a = document.createElement('a');\n",
              "      a.href = window.URL.createObjectURL(blob);\n",
              "      a.download = filename;\n",
              "      div.appendChild(a);\n",
              "      a.click();\n",
              "      div.remove();\n",
              "    }\n",
              "  "
            ],
            "text/plain": [
              "<IPython.core.display.Javascript object>"
            ]
          },
          "metadata": {
            "tags": []
          }
        },
        {
          "output_type": "display_data",
          "data": {
            "application/javascript": [
              "download(\"download_9aa26643-ad10-46e8-800c-211cbcaab647\", \"ms16069.csv\", 51237656)"
            ],
            "text/plain": [
              "<IPython.core.display.Javascript object>"
            ]
          },
          "metadata": {
            "tags": []
          }
        }
      ]
    }
  ]
}